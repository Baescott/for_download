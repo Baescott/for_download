{
 "cells": [
  {
   "cell_type": "markdown",
   "id": "84491b76-0fbb-4884-a232-95d76c83948a",
   "metadata": {},
   "source": [
    "# 기본 설정 (필수실행, 수정 금지)"
   ]
  },
  {
   "cell_type": "code",
   "execution_count": 2,
   "id": "9ee28f48-79bd-4020-93ec-e6ccfa82dd8f",
   "metadata": {
    "tags": []
   },
   "outputs": [],
   "source": [
    "from blog_scraper import BlogScraper"
   ]
  },
  {
   "cell_type": "markdown",
   "id": "0cef53f4-54b9-4e17-9125-ac502601fc7a",
   "metadata": {},
   "source": [
    "---"
   ]
  },
  {
   "cell_type": "markdown",
   "id": "7371d936-9c47-4e18-b9e9-642b1bdd09bf",
   "metadata": {},
   "source": [
    "# ⭐️파라미터 설정 (필요에 따라 수정하는 부분)⭐️\n",
    "- 이전과 마찬가지로 반드시 포함돼야 하는 단어에는 쌍따옴표(\") 처리 (ex: `'백내장 \"실비\"'`)\n",
    "- `from_date` & `to_date`는 `20231101`과 같은 포맷으로 작성돼야함\n",
    "- `max_page`가 클수록 많은 결과가 수집됨"
   ]
  },
  {
   "cell_type": "code",
   "execution_count": 3,
   "id": "110a042b-4322-4c18-874c-b9608379a484",
   "metadata": {
    "tags": []
   },
   "outputs": [],
   "source": [
    "keyword = '백내장 실비'\n",
    "from_date = 20230901\n",
    "to_date = 20231101\n",
    "max_page = 10"
   ]
  },
  {
   "cell_type": "markdown",
   "id": "eb7ccb2a-729d-4175-9c4a-5c37f52a77ec",
   "metadata": {},
   "source": [
    "---"
   ]
  },
  {
   "cell_type": "markdown",
   "id": "c80d270b-53e8-47a4-a5a2-4eb639d5d34b",
   "metadata": {
    "tags": []
   },
   "source": [
    "# ⭐️데이터 수집 & 저장 부분⭐️"
   ]
  },
  {
   "cell_type": "code",
   "execution_count": 4,
   "id": "d363d196-6437-4d5b-878d-3b118551d096",
   "metadata": {
    "tags": []
   },
   "outputs": [
    {
     "name": "stderr",
     "output_type": "stream",
     "text": [
      "100%|██████████| 10/10 [00:03<00:00,  2.55it/s]\n",
      "286it [01:23,  3.43it/s]\n"
     ]
    }
   ],
   "source": [
    "scraper = BlogScraper()\n",
    "\n",
    "result = scraper.get_blog_dataframe(keyword=keyword, from_date=from_date, to_date=to_date, max_page=max_page)\n",
    "# result = scraper.get_blog_dataframe(keyword=keyword, max_page=max_page)"
   ]
  },
  {
   "cell_type": "markdown",
   "id": "f1c04264-cb2d-428a-b94f-5a5ccfd5e43c",
   "metadata": {},
   "source": [
    "`results`라는 디렉토리에 아래의 이름 규칙으로 저장\n",
    "  1) `from_date`(시작일) & `to_date`(종료일) 설정한 경우: `blog_검색어_from_시작일_to_종료일.csv`\n",
    "  2) 미설정 시, 즉 종료일이 오늘인 경우: `blog_검색어_til_종료일.csv`"
   ]
  },
  {
   "cell_type": "markdown",
   "id": "68700f1c-6e4f-45cc-a494-9c9cbe25d47a",
   "metadata": {},
   "source": [
    "---"
   ]
  },
  {
   "cell_type": "markdown",
   "id": "e4069999-d568-4fa9-ab97-5fe0459e626a",
   "metadata": {
    "jp-MarkdownHeadingCollapsed": true,
    "tags": []
   },
   "source": [
    "### 디버깅 부분"
   ]
  },
  {
   "cell_type": "code",
   "execution_count": 7,
   "id": "03d2d4e5-76de-4402-bdc2-265e2f893ab7",
   "metadata": {
    "tags": []
   },
   "outputs": [
    {
     "name": "stderr",
     "output_type": "stream",
     "text": [
      "100%|██████████| 10/10 [00:03<00:00,  2.81it/s]\n"
     ]
    }
   ],
   "source": [
    "search_list = scraper.get_search_list(keyword=keyword, from_date=from_date, to_date=to_date, max_page=max_page)"
   ]
  },
  {
   "cell_type": "code",
   "execution_count": 8,
   "id": "156e7ace-75d3-4add-8272-b4d9309901ef",
   "metadata": {
    "tags": []
   },
   "outputs": [
    {
     "data": {
      "text/plain": [
       "{'blog_writer': '췍췍',\n",
       " 'blog_title': '인천부평안과 브랜드라식라섹(수술) 후기',\n",
       " 'blog_url': 'https://blog.naver.com/khn2125/223242645692',\n",
       " 'blog_id': 'khn2125',\n",
       " 'blog_num': '223242645692'}"
      ]
     },
     "execution_count": 8,
     "metadata": {},
     "output_type": "execute_result"
    }
   ],
   "source": [
    "search_list[149]"
   ]
  },
  {
   "cell_type": "code",
   "execution_count": 13,
   "id": "3407a2da-6a27-4ad5-8889-3f59a436c730",
   "metadata": {
    "tags": []
   },
   "outputs": [],
   "source": [
    "# import requests\n",
    "\n",
    "# import re\n",
    "# from bs4 import BeautifulSoup\n",
    "\n",
    "\n",
    "# cookies = scraper.COOKIES\n",
    "# headers = scraper.HEADERS\n",
    "\n",
    "# headers['referer'] = search_list[149]['blog_url']\n",
    "# params = {'blogId': search_list[149]['blog_id'], 'logNo': search_list[149]['blog_num']}\n",
    "\n",
    "# blog_response = requests.get('https://blog.naver.com/PostView.naver',\n",
    "#                              params=params,\n",
    "#                              cookies=cookies,\n",
    "#                              headers=headers)\n",
    "# blog_response_html = BeautifulSoup(blog_response.text, 'html.parser')"
   ]
  },
  {
   "cell_type": "code",
   "execution_count": 17,
   "id": "68f744b4-3802-4771-b03a-b415829dc10e",
   "metadata": {
    "tags": []
   },
   "outputs": [
    {
     "data": {
      "text/plain": [
       "<p class=\"se_textarea\"><!-- SE3-TEXT { -->- 의료법 제56조 를 인지하고 포스팅합니다.<br/>- 개인적인 후기이며 개인차가 있을 수 있습니다.<br/>- 부작용 없는 수술은 없지만 만족하여 포스팅합니다.<br/>- 내돈내고 수술하여 작성하는 경험담입니다.<br/><br/>안녕하세요. 오늘 저의 라섹후기를 들려드릴게요.<br/><br/>저는 시력이 굉장히 좋은편이었답니다. 초등학교때 집앞 산을 바라보면 나무 가지가 다보일정도..? 제 눈이 이렇게 보이는게 맞나 신기할 정도...? 정말이예욤..<br/><br/>그런데 제가 고등학교 2학년 때.. 아폴로 눈병이 유행이었답니다.. 여기저기 눈병 감염으로 친구들이 학교를 결석하게되고.. 철없던 전.. 책상에 부비부비 눈병을 아주 우습게 봤더랬죠.. <span style=\"color:inherit;font-family:inherit;font-size:inherit;font-style:inherit;font-weight:inherit;text-align:inherit\">전염성이 강하긴 한가봐요. 걸린 후  바로 일주일 뒤 시력이 저하.. 칠판이 안보여서 안경을 끼기 시작했어요.</span><br/><br/>지금도 아폴로 눈병이 유행하나요? <br/>절대 절대 내몸은 소중히 .. 잘 지키세욥!!<br/><br/>그렇게 대학때 까지  저는 안경이 너무 불편해서 칠판보는 용으로만 쓰고벗고 했었어요.  그리고 저는 렌즈도 착용하면 이물감이 너무 심하고 건조함이 눈 못뜰정도로 심해서 그냥 쌩 눈으로 평상시 안보이는것은 안보이는대로~~~ 살았답니다.<br/><br/>그르케 그르케 지내면서 너무 불편한점 많았지만.. <br/>수술은 ×NO NO NO×<br/>라식이던 라섹이던 겁도많아 무섭고 부작용도 있겠지하며 의학기술을 못 믿었던 사람중 하나입니다 제가!!<br/><br/>서론이 길었네요.<br/><br/>결정적으로 제가 수술을 결정한 이유?<br/><br/>사랑스러운 아이를 2명이나 낳다보니.. 내몸이 내몸이 아니고 내눈도 내눈이 아닌거처럼 시력이 애를 낳을때마다 떨어지더라구요.. 이게 출산의 영향이 있나보아요.주변에 저와 같은 분들이 꽤 계시더라구요.<br/><br/>아이 키우면서 시력이 안좋으니깐 이전 홀몸이었던 때와는 달리 안되겠더라구요. 계속 안경을 끼고 살게되었는데.. 아이가 안경을 1년에 3개는 깨먹었... 관리도 잘 못하는 저였기도하고^^ <span style=\"color:inherit;font-family:inherit;font-size:inherit;font-style:inherit;font-weight:inherit;text-align:inherit\">두통도 너무 심했어요. </span><br/><span style=\"color:inherit;font-family:inherit;font-size:inherit;font-style:inherit;font-weight:inherit;text-align:inherit\">남편이 보다보다 저에게 수술을 권하더라구요. 진짜 말나오자마자 거의 끌려가서 수술했어요~~~!!</span><br/><span style=\"color:inherit;font-family:inherit;font-size:inherit;font-style:inherit;font-weight:inherit;text-align:inherit\"><br/></span><br/><span style=\"color:inherit;font-family:inherit;font-size:inherit;font-style:inherit;font-weight:inherit;text-align:inherit\">두근두근</span><br/><span style=\"color:inherit;font-family:inherit;font-size:inherit;font-style:inherit;font-weight:inherit;text-align:inherit\"><br/></span>☆강남브랜드안과 인천점☆<br/><br/><span style=\"color:inherit;font-family:inherit;font-size:inherit;font-style:inherit;font-weight:inherit;text-align:inherit\">제가? 아니 남편이 선택한 병원은 남편 사촌이 추천해준 곳이라서 믿고 따라갔습니다. 심지어 저는 용인사람.. 병원다니다보니 느므 먼데 1시간30분정도? 구래도 계속 가고있어용. 인천사시는 분들 추천합니당. 병원은 가까운게 최고에요! 달마다 내원해야해서 여간 힘든게 아니에욤ㅠㅠ</span><span style=\"color:inherit;font-family:inherit;font-size:inherit;font-style:inherit;font-weight:inherit;text-align:inherit\"><br/></span><br/><span style=\"color:inherit;font-family:inherit;font-size:inherit;font-style:inherit;font-weight:inherit;text-align:inherit\">☆강남브랜드안과 인천점☆</span><br/><span style=\"color:inherit;font-family:inherit;font-size:inherit;font-style:inherit;font-weight:inherit;text-align:inherit\"><br/></span><br/><span style=\"color:inherit;font-family:inherit;font-size:inherit;font-style:inherit;font-weight:inherit;text-align:inherit\">예약일정</span><span style=\"color:inherit;font-family:inherit;font-size:inherit;font-style:inherit;font-weight:inherit;text-align:inherit\"> 잡고 어찌나 마음이 혼란스럽던지 무섭고 왜해야하나 갑자기 너어무 걱정되서 어째야할지 모르겠었어요.</span><br/><span style=\"color:inherit;font-family:inherit;font-size:inherit;font-style:inherit;font-weight:inherit;text-align:inherit\"><br/></span><br/><span style=\"color:inherit;font-family:inherit;font-size:inherit;font-style:inherit;font-weight:inherit;text-align:inherit\">허나 결론은 저 너무 만족해요. 세상을 이리 편히볼수있는게 행복이구나 느끼는중입니다!!</span><br/><span style=\"color:inherit;font-family:inherit;font-size:inherit;font-style:inherit;font-weight:inherit;text-align:inherit\"><br/></span><br/>내원하면 간단하게 눈검사 후 본인의 눈에 맞는 수술이 어떤것인지 알수있어요. 저는 눈알이 건강한편으로 모든 시술이 가능했지만 제기준으로 가장 안전하다는 라섹으로 진행했어요.<br/><br/>수술의 종류가 아주 다양하고 금액차이와 장단점이 있으니 본인의 니즈에 맞는 선택을 하심 되세요~<br/><br/>수술은 되게 간단해요. 15분안에 끝난 느낌? 레이저의 내 눈알 타는 냄새 진하게 나요ㅎㅎ 아픈 느낌은 전혀 없었구요. 한곳을 쳐다봐야하는데 그게 좀 시리다? 그런 정도였습니다.<br/><br/>실제 수술 후 저의 증상은 ??<br/><br/>저는 라섹 후에 집오는 1시간 30 분 동안 큰 통증은 없었어요. 아 정말 의사선생님 외 다수의 말처럼 한 3일만 불편하고 마려나보다 ㅎㅎ 별거아니네......? <br/><br/>이럴수가 .... 이 아픈게 아픈게 아니고 눈을 뜬것도 감은것도 아닌 이 느낌이... 짜증이 나는건지 짜증이 날것같은건지  슬퍼서 눈물이 나는건지 아파서 눈물을 흘리는 건지... 일주일동안 제대로 눈 못 뜬거같아요ㅠㅠㅠ 요새 후기들 보면.. 남들보다 오래 통증이 간 편인가요? 불편한점 없이 눈뜰수있는 기간 그냥 일주일 생각하세요.. <br/>사람마다 다르니 저보다 더~~ 오래 걸릴수 있고요^^<br/><br/>물어보세요 궁금한거 알려드릴게염<br/><br/>지금은 너무 밝은 세상을 살고있어요. 라섹수술 이게 미용목적? 그거라고 실비보험청구가 안됩니다. 그리구 약제비 보험적용도 안되더라구요. 수술 후 3개월동안은 안구관련? 보험이 미적용 된데요.<br/><br/>미리 준비하실것 알려드리자면 인공눈물 그거 3개월치는 넉넉히 준비해두세요. 어차피 수술 후 구매하라는데 보험적용 될때 사두는게 낫자나욤?<br/><br/>그것빼고는 ~~ 딱히 뭐하실 필요없이 선그라스 착용하시구 빛보시는거 최대한 일주일에서 한달정도 피해주세요. 눈에 혼탁이 생길수있나보아요.<br/><br/>저처럼 안경생활이 불편하신분들 하루빨리 하세요! 노안 오기전에요~^^ 그럼 이만!<br/><br/><span class=\"__se3tag\">#라섹</span><span class=\"__se3tag\">#라식</span><span class=\"__se3tag\">#스마일라식</span><span class=\"__se3tag\">#노안</span><span class=\"__se3tag\">#백내장수술</span><span class=\"__se3tag\">#안구건조증</span><span class=\"__se3tag\">#IPL레이저치료</span><span class=\"__se3tag\">#강남브랜드안과</span><span class=\"__se3tag\">#인천점</span><span class=\"__se3tag\">#정현교원장선생님</span><!-- } SE3-TEXT --></p>"
      ]
     },
     "execution_count": 17,
     "metadata": {},
     "output_type": "execute_result"
    }
   ],
   "source": [
    "# blog_response_html.find('p', class_=re.compile('se_textarea'))"
   ]
  },
  {
   "cell_type": "code",
   "execution_count": 21,
   "id": "2a0a1a2f-1e59-41cd-a0bf-6bad5e7f0e2a",
   "metadata": {
    "tags": []
   },
   "outputs": [
    {
     "data": {
      "text/plain": [
       "True"
      ]
     },
     "execution_count": 21,
     "metadata": {},
     "output_type": "execute_result"
    }
   ],
   "source": [
    "# blog_response_html.find('div', id=re.compile('postViewArea')) is None"
   ]
  }
 ],
 "metadata": {
  "availableInstances": [
   {
    "_defaultOrder": 0,
    "_isFastLaunch": true,
    "category": "General purpose",
    "gpuNum": 0,
    "hideHardwareSpecs": false,
    "memoryGiB": 4,
    "name": "ml.t3.medium",
    "vcpuNum": 2
   },
   {
    "_defaultOrder": 1,
    "_isFastLaunch": false,
    "category": "General purpose",
    "gpuNum": 0,
    "hideHardwareSpecs": false,
    "memoryGiB": 8,
    "name": "ml.t3.large",
    "vcpuNum": 2
   },
   {
    "_defaultOrder": 2,
    "_isFastLaunch": false,
    "category": "General purpose",
    "gpuNum": 0,
    "hideHardwareSpecs": false,
    "memoryGiB": 16,
    "name": "ml.t3.xlarge",
    "vcpuNum": 4
   },
   {
    "_defaultOrder": 3,
    "_isFastLaunch": false,
    "category": "General purpose",
    "gpuNum": 0,
    "hideHardwareSpecs": false,
    "memoryGiB": 32,
    "name": "ml.t3.2xlarge",
    "vcpuNum": 8
   },
   {
    "_defaultOrder": 4,
    "_isFastLaunch": true,
    "category": "General purpose",
    "gpuNum": 0,
    "hideHardwareSpecs": false,
    "memoryGiB": 8,
    "name": "ml.m5.large",
    "vcpuNum": 2
   },
   {
    "_defaultOrder": 5,
    "_isFastLaunch": false,
    "category": "General purpose",
    "gpuNum": 0,
    "hideHardwareSpecs": false,
    "memoryGiB": 16,
    "name": "ml.m5.xlarge",
    "vcpuNum": 4
   },
   {
    "_defaultOrder": 6,
    "_isFastLaunch": false,
    "category": "General purpose",
    "gpuNum": 0,
    "hideHardwareSpecs": false,
    "memoryGiB": 32,
    "name": "ml.m5.2xlarge",
    "vcpuNum": 8
   },
   {
    "_defaultOrder": 7,
    "_isFastLaunch": false,
    "category": "General purpose",
    "gpuNum": 0,
    "hideHardwareSpecs": false,
    "memoryGiB": 64,
    "name": "ml.m5.4xlarge",
    "vcpuNum": 16
   },
   {
    "_defaultOrder": 8,
    "_isFastLaunch": false,
    "category": "General purpose",
    "gpuNum": 0,
    "hideHardwareSpecs": false,
    "memoryGiB": 128,
    "name": "ml.m5.8xlarge",
    "vcpuNum": 32
   },
   {
    "_defaultOrder": 9,
    "_isFastLaunch": false,
    "category": "General purpose",
    "gpuNum": 0,
    "hideHardwareSpecs": false,
    "memoryGiB": 192,
    "name": "ml.m5.12xlarge",
    "vcpuNum": 48
   },
   {
    "_defaultOrder": 10,
    "_isFastLaunch": false,
    "category": "General purpose",
    "gpuNum": 0,
    "hideHardwareSpecs": false,
    "memoryGiB": 256,
    "name": "ml.m5.16xlarge",
    "vcpuNum": 64
   },
   {
    "_defaultOrder": 11,
    "_isFastLaunch": false,
    "category": "General purpose",
    "gpuNum": 0,
    "hideHardwareSpecs": false,
    "memoryGiB": 384,
    "name": "ml.m5.24xlarge",
    "vcpuNum": 96
   },
   {
    "_defaultOrder": 12,
    "_isFastLaunch": false,
    "category": "General purpose",
    "gpuNum": 0,
    "hideHardwareSpecs": false,
    "memoryGiB": 8,
    "name": "ml.m5d.large",
    "vcpuNum": 2
   },
   {
    "_defaultOrder": 13,
    "_isFastLaunch": false,
    "category": "General purpose",
    "gpuNum": 0,
    "hideHardwareSpecs": false,
    "memoryGiB": 16,
    "name": "ml.m5d.xlarge",
    "vcpuNum": 4
   },
   {
    "_defaultOrder": 14,
    "_isFastLaunch": false,
    "category": "General purpose",
    "gpuNum": 0,
    "hideHardwareSpecs": false,
    "memoryGiB": 32,
    "name": "ml.m5d.2xlarge",
    "vcpuNum": 8
   },
   {
    "_defaultOrder": 15,
    "_isFastLaunch": false,
    "category": "General purpose",
    "gpuNum": 0,
    "hideHardwareSpecs": false,
    "memoryGiB": 64,
    "name": "ml.m5d.4xlarge",
    "vcpuNum": 16
   },
   {
    "_defaultOrder": 16,
    "_isFastLaunch": false,
    "category": "General purpose",
    "gpuNum": 0,
    "hideHardwareSpecs": false,
    "memoryGiB": 128,
    "name": "ml.m5d.8xlarge",
    "vcpuNum": 32
   },
   {
    "_defaultOrder": 17,
    "_isFastLaunch": false,
    "category": "General purpose",
    "gpuNum": 0,
    "hideHardwareSpecs": false,
    "memoryGiB": 192,
    "name": "ml.m5d.12xlarge",
    "vcpuNum": 48
   },
   {
    "_defaultOrder": 18,
    "_isFastLaunch": false,
    "category": "General purpose",
    "gpuNum": 0,
    "hideHardwareSpecs": false,
    "memoryGiB": 256,
    "name": "ml.m5d.16xlarge",
    "vcpuNum": 64
   },
   {
    "_defaultOrder": 19,
    "_isFastLaunch": false,
    "category": "General purpose",
    "gpuNum": 0,
    "hideHardwareSpecs": false,
    "memoryGiB": 384,
    "name": "ml.m5d.24xlarge",
    "vcpuNum": 96
   },
   {
    "_defaultOrder": 20,
    "_isFastLaunch": false,
    "category": "General purpose",
    "gpuNum": 0,
    "hideHardwareSpecs": true,
    "memoryGiB": 0,
    "name": "ml.geospatial.interactive",
    "supportedImageNames": [
     "sagemaker-geospatial-v1-0"
    ],
    "vcpuNum": 0
   },
   {
    "_defaultOrder": 21,
    "_isFastLaunch": true,
    "category": "Compute optimized",
    "gpuNum": 0,
    "hideHardwareSpecs": false,
    "memoryGiB": 4,
    "name": "ml.c5.large",
    "vcpuNum": 2
   },
   {
    "_defaultOrder": 22,
    "_isFastLaunch": false,
    "category": "Compute optimized",
    "gpuNum": 0,
    "hideHardwareSpecs": false,
    "memoryGiB": 8,
    "name": "ml.c5.xlarge",
    "vcpuNum": 4
   },
   {
    "_defaultOrder": 23,
    "_isFastLaunch": false,
    "category": "Compute optimized",
    "gpuNum": 0,
    "hideHardwareSpecs": false,
    "memoryGiB": 16,
    "name": "ml.c5.2xlarge",
    "vcpuNum": 8
   },
   {
    "_defaultOrder": 24,
    "_isFastLaunch": false,
    "category": "Compute optimized",
    "gpuNum": 0,
    "hideHardwareSpecs": false,
    "memoryGiB": 32,
    "name": "ml.c5.4xlarge",
    "vcpuNum": 16
   },
   {
    "_defaultOrder": 25,
    "_isFastLaunch": false,
    "category": "Compute optimized",
    "gpuNum": 0,
    "hideHardwareSpecs": false,
    "memoryGiB": 72,
    "name": "ml.c5.9xlarge",
    "vcpuNum": 36
   },
   {
    "_defaultOrder": 26,
    "_isFastLaunch": false,
    "category": "Compute optimized",
    "gpuNum": 0,
    "hideHardwareSpecs": false,
    "memoryGiB": 96,
    "name": "ml.c5.12xlarge",
    "vcpuNum": 48
   },
   {
    "_defaultOrder": 27,
    "_isFastLaunch": false,
    "category": "Compute optimized",
    "gpuNum": 0,
    "hideHardwareSpecs": false,
    "memoryGiB": 144,
    "name": "ml.c5.18xlarge",
    "vcpuNum": 72
   },
   {
    "_defaultOrder": 28,
    "_isFastLaunch": false,
    "category": "Compute optimized",
    "gpuNum": 0,
    "hideHardwareSpecs": false,
    "memoryGiB": 192,
    "name": "ml.c5.24xlarge",
    "vcpuNum": 96
   },
   {
    "_defaultOrder": 29,
    "_isFastLaunch": true,
    "category": "Accelerated computing",
    "gpuNum": 1,
    "hideHardwareSpecs": false,
    "memoryGiB": 16,
    "name": "ml.g4dn.xlarge",
    "vcpuNum": 4
   },
   {
    "_defaultOrder": 30,
    "_isFastLaunch": false,
    "category": "Accelerated computing",
    "gpuNum": 1,
    "hideHardwareSpecs": false,
    "memoryGiB": 32,
    "name": "ml.g4dn.2xlarge",
    "vcpuNum": 8
   },
   {
    "_defaultOrder": 31,
    "_isFastLaunch": false,
    "category": "Accelerated computing",
    "gpuNum": 1,
    "hideHardwareSpecs": false,
    "memoryGiB": 64,
    "name": "ml.g4dn.4xlarge",
    "vcpuNum": 16
   },
   {
    "_defaultOrder": 32,
    "_isFastLaunch": false,
    "category": "Accelerated computing",
    "gpuNum": 1,
    "hideHardwareSpecs": false,
    "memoryGiB": 128,
    "name": "ml.g4dn.8xlarge",
    "vcpuNum": 32
   },
   {
    "_defaultOrder": 33,
    "_isFastLaunch": false,
    "category": "Accelerated computing",
    "gpuNum": 4,
    "hideHardwareSpecs": false,
    "memoryGiB": 192,
    "name": "ml.g4dn.12xlarge",
    "vcpuNum": 48
   },
   {
    "_defaultOrder": 34,
    "_isFastLaunch": false,
    "category": "Accelerated computing",
    "gpuNum": 1,
    "hideHardwareSpecs": false,
    "memoryGiB": 256,
    "name": "ml.g4dn.16xlarge",
    "vcpuNum": 64
   },
   {
    "_defaultOrder": 35,
    "_isFastLaunch": false,
    "category": "Accelerated computing",
    "gpuNum": 1,
    "hideHardwareSpecs": false,
    "memoryGiB": 61,
    "name": "ml.p3.2xlarge",
    "vcpuNum": 8
   },
   {
    "_defaultOrder": 36,
    "_isFastLaunch": false,
    "category": "Accelerated computing",
    "gpuNum": 4,
    "hideHardwareSpecs": false,
    "memoryGiB": 244,
    "name": "ml.p3.8xlarge",
    "vcpuNum": 32
   },
   {
    "_defaultOrder": 37,
    "_isFastLaunch": false,
    "category": "Accelerated computing",
    "gpuNum": 8,
    "hideHardwareSpecs": false,
    "memoryGiB": 488,
    "name": "ml.p3.16xlarge",
    "vcpuNum": 64
   },
   {
    "_defaultOrder": 38,
    "_isFastLaunch": false,
    "category": "Accelerated computing",
    "gpuNum": 8,
    "hideHardwareSpecs": false,
    "memoryGiB": 768,
    "name": "ml.p3dn.24xlarge",
    "vcpuNum": 96
   },
   {
    "_defaultOrder": 39,
    "_isFastLaunch": false,
    "category": "Memory Optimized",
    "gpuNum": 0,
    "hideHardwareSpecs": false,
    "memoryGiB": 16,
    "name": "ml.r5.large",
    "vcpuNum": 2
   },
   {
    "_defaultOrder": 40,
    "_isFastLaunch": false,
    "category": "Memory Optimized",
    "gpuNum": 0,
    "hideHardwareSpecs": false,
    "memoryGiB": 32,
    "name": "ml.r5.xlarge",
    "vcpuNum": 4
   },
   {
    "_defaultOrder": 41,
    "_isFastLaunch": false,
    "category": "Memory Optimized",
    "gpuNum": 0,
    "hideHardwareSpecs": false,
    "memoryGiB": 64,
    "name": "ml.r5.2xlarge",
    "vcpuNum": 8
   },
   {
    "_defaultOrder": 42,
    "_isFastLaunch": false,
    "category": "Memory Optimized",
    "gpuNum": 0,
    "hideHardwareSpecs": false,
    "memoryGiB": 128,
    "name": "ml.r5.4xlarge",
    "vcpuNum": 16
   },
   {
    "_defaultOrder": 43,
    "_isFastLaunch": false,
    "category": "Memory Optimized",
    "gpuNum": 0,
    "hideHardwareSpecs": false,
    "memoryGiB": 256,
    "name": "ml.r5.8xlarge",
    "vcpuNum": 32
   },
   {
    "_defaultOrder": 44,
    "_isFastLaunch": false,
    "category": "Memory Optimized",
    "gpuNum": 0,
    "hideHardwareSpecs": false,
    "memoryGiB": 384,
    "name": "ml.r5.12xlarge",
    "vcpuNum": 48
   },
   {
    "_defaultOrder": 45,
    "_isFastLaunch": false,
    "category": "Memory Optimized",
    "gpuNum": 0,
    "hideHardwareSpecs": false,
    "memoryGiB": 512,
    "name": "ml.r5.16xlarge",
    "vcpuNum": 64
   },
   {
    "_defaultOrder": 46,
    "_isFastLaunch": false,
    "category": "Memory Optimized",
    "gpuNum": 0,
    "hideHardwareSpecs": false,
    "memoryGiB": 768,
    "name": "ml.r5.24xlarge",
    "vcpuNum": 96
   },
   {
    "_defaultOrder": 47,
    "_isFastLaunch": false,
    "category": "Accelerated computing",
    "gpuNum": 1,
    "hideHardwareSpecs": false,
    "memoryGiB": 16,
    "name": "ml.g5.xlarge",
    "vcpuNum": 4
   },
   {
    "_defaultOrder": 48,
    "_isFastLaunch": false,
    "category": "Accelerated computing",
    "gpuNum": 1,
    "hideHardwareSpecs": false,
    "memoryGiB": 32,
    "name": "ml.g5.2xlarge",
    "vcpuNum": 8
   },
   {
    "_defaultOrder": 49,
    "_isFastLaunch": false,
    "category": "Accelerated computing",
    "gpuNum": 1,
    "hideHardwareSpecs": false,
    "memoryGiB": 64,
    "name": "ml.g5.4xlarge",
    "vcpuNum": 16
   },
   {
    "_defaultOrder": 50,
    "_isFastLaunch": false,
    "category": "Accelerated computing",
    "gpuNum": 1,
    "hideHardwareSpecs": false,
    "memoryGiB": 128,
    "name": "ml.g5.8xlarge",
    "vcpuNum": 32
   },
   {
    "_defaultOrder": 51,
    "_isFastLaunch": false,
    "category": "Accelerated computing",
    "gpuNum": 1,
    "hideHardwareSpecs": false,
    "memoryGiB": 256,
    "name": "ml.g5.16xlarge",
    "vcpuNum": 64
   },
   {
    "_defaultOrder": 52,
    "_isFastLaunch": false,
    "category": "Accelerated computing",
    "gpuNum": 4,
    "hideHardwareSpecs": false,
    "memoryGiB": 192,
    "name": "ml.g5.12xlarge",
    "vcpuNum": 48
   },
   {
    "_defaultOrder": 53,
    "_isFastLaunch": false,
    "category": "Accelerated computing",
    "gpuNum": 4,
    "hideHardwareSpecs": false,
    "memoryGiB": 384,
    "name": "ml.g5.24xlarge",
    "vcpuNum": 96
   },
   {
    "_defaultOrder": 54,
    "_isFastLaunch": false,
    "category": "Accelerated computing",
    "gpuNum": 8,
    "hideHardwareSpecs": false,
    "memoryGiB": 768,
    "name": "ml.g5.48xlarge",
    "vcpuNum": 192
   },
   {
    "_defaultOrder": 55,
    "_isFastLaunch": false,
    "category": "Accelerated computing",
    "gpuNum": 8,
    "hideHardwareSpecs": false,
    "memoryGiB": 1152,
    "name": "ml.p4d.24xlarge",
    "vcpuNum": 96
   },
   {
    "_defaultOrder": 56,
    "_isFastLaunch": false,
    "category": "Accelerated computing",
    "gpuNum": 8,
    "hideHardwareSpecs": false,
    "memoryGiB": 1152,
    "name": "ml.p4de.24xlarge",
    "vcpuNum": 96
   }
  ],
  "instance_type": "ml.t3.medium",
  "kernelspec": {
   "display_name": "Python 3 (Data Science 3.0)",
   "language": "python",
   "name": "python3__SAGEMAKER_INTERNAL__arn:aws:sagemaker:ap-northeast-2:806072073708:image/sagemaker-data-science-310-v1"
  },
  "language_info": {
   "codemirror_mode": {
    "name": "ipython",
    "version": 3
   },
   "file_extension": ".py",
   "mimetype": "text/x-python",
   "name": "python",
   "nbconvert_exporter": "python",
   "pygments_lexer": "ipython3",
   "version": "3.10.6"
  }
 },
 "nbformat": 4,
 "nbformat_minor": 5
}
